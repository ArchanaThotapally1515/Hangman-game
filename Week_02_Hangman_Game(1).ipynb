{
  "nbformat": 4,
  "nbformat_minor": 0,
  "metadata": {
    "colab": {
      "provenance": [],
      "collapsed_sections": [
        "BPkI0p-oyJM8",
        "SUHF01sUzbh4"
      ],
      "include_colab_link": true
    },
    "kernelspec": {
      "name": "python3",
      "display_name": "Python 3"
    },
    "language_info": {
      "name": "python"
    }
  },
  "cells": [
    {
      "cell_type": "markdown",
      "metadata": {
        "id": "view-in-github",
        "colab_type": "text"
      },
      "source": [
        "<a href=\"https://colab.research.google.com/github/ArchanaThotapally1515/Hangman-game/blob/main/Week_02_Hangman_Game(1).ipynb\" target=\"_parent\"><img src=\"https://colab.research.google.com/assets/colab-badge.svg\" alt=\"Open In Colab\"/></a>"
      ]
    },
    {
      "cell_type": "markdown",
      "source": [
        "# Hangman Game Week 02\n",
        "\n",
        "How Hangman Game works: https://en.wikipedia.org/wiki/Hangman_(game)\n",
        "\n",
        "Play Hangman Game with Friends: https://hangmanwordgame.com/?fca=1&success=0#/"
      ],
      "metadata": {
        "id": "h8tjVlxCmBap"
      }
    },
    {
      "cell_type": "markdown",
      "source": [
        "# Step 1"
      ],
      "metadata": {
        "id": "BPkI0p-oyJM8"
      }
    },
    {
      "cell_type": "code",
      "source": [
        "word_list = [\"prepinsta\", \"prime\", \"mohan\"]\n",
        "\n",
        "# TODO-1 - Randomly choose a word from the word_list and assign it to a variable called chosen_word.\n",
        "import random\n",
        "chosen_word = random.choice(word_list)\n",
        "\n",
        "# TODO-2 - Ask the user to guess a letter and assign their answer to a variable called guess. Make guess lowercase.\n",
        "guess = input(\"Guess a letter\").lower()\n",
        "\n",
        "# TODO-3 - Check if the letter the user guessed (guess) is one of the letters in the chosen_word.\n",
        "if guess in chosen_word:\n",
        "  print(\"Yes\", guess, \"is in chosen word\")\n",
        "else:\n",
        "  print(\"NO\", guess, \"is not in chosen word\")"
      ],
      "metadata": {
        "id": "Fp-IB83eyW8r",
        "colab": {
          "base_uri": "https://localhost:8080/"
        },
        "outputId": "9d4ed429-a3d4-485b-b267-8c974117d2b9"
      },
      "execution_count": null,
      "outputs": [
        {
          "output_type": "stream",
          "name": "stdout",
          "text": [
            "Guess a letterH\n",
            "Yes h is in chosen word\n"
          ]
        }
      ]
    },
    {
      "cell_type": "markdown",
      "source": [
        "# Step 02"
      ],
      "metadata": {
        "id": "SUHF01sUzbh4"
      }
    },
    {
      "cell_type": "code",
      "source": [
        "#Step 2\n",
        "\n",
        "# include Step 01 Solution\n",
        "\n",
        "\n",
        "\n",
        "#TODO-1: - Create an empty List called display.\n",
        "display = []\n",
        "#For each letter in the chosen_word, add a \"_\" to 'display'.\n",
        "for letter in chosen_word:\n",
        "  display.append(\"_\")\n",
        "#So if the chosen_word was \"mohan\", display should be [\"_\", \"_\", \"_\", \"_\", \"_\"] with 5 \"_\" representing each letter to guess.\n",
        "\n",
        "\n",
        "#TODO-2: - Loop through each position in the chosen_word;\n",
        "#If the letter at that position matches 'guess' then reveal that letter in the display at that position.\n",
        "#e.g. If the user guessed \"a\" and the chosen word was \"mohan\", then display should be [\"_\", \"_\", \"_\", \"a\", \"_\"].\n",
        "\n",
        "for position in range(len(chosen_word)):\n",
        "\n",
        "  if chosen_word[position] == guess:\n",
        "    display[position] = guess\n",
        "\n",
        "\n",
        "\n",
        "\n",
        "\n",
        "#TODO-3: - Print 'display' and you should see the guessed letter in the correct position and every other letter replace with \"_\".\n",
        "#Hint - Don't worry about getting the user to guess the next letter. We'll tackle that in step 3.\n",
        "\n",
        "print(display)"
      ],
      "metadata": {
        "id": "xuGUEMiGzdan",
        "colab": {
          "base_uri": "https://localhost:8080/"
        },
        "outputId": "66c66335-c6ff-4353-eea5-2f2cf0b5aa44"
      },
      "execution_count": null,
      "outputs": [
        {
          "output_type": "stream",
          "name": "stdout",
          "text": [
            "['_', '_', '_', '_', '_', '_', '_', '_', '_']\n"
          ]
        }
      ]
    },
    {
      "cell_type": "markdown",
      "source": [
        "# Step 03"
      ],
      "metadata": {
        "id": "q3gZm9n01rnk"
      }
    },
    {
      "cell_type": "code",
      "source": [
        "#Step 3\n",
        "\n",
        "# Step 02 code integration with while loop\n",
        "\n",
        "#TODO-1: - Use a while loop to let the user guess again.\n",
        "while \"_\" in display and lives > 0:\n",
        "  guess = input(\"Guess a letter\").lower()\n",
        "\n",
        "#The loop should only stop once the user has guessed all the letters in the chosen_word and 'display' has no more blanks (\"_\").\n",
        "#Then you can tell the user they've won.\n",
        "  if \"_\" not in display:\n",
        "    print(\"Congratulations you have won the game\")"
      ],
      "metadata": {
        "id": "y3pL_of50YbW",
        "colab": {
          "base_uri": "https://localhost:8080/",
          "height": 370
        },
        "outputId": "27c7184b-d4ee-4aa1-a23b-ef6d8aac1de4"
      },
      "execution_count": null,
      "outputs": [
        {
          "output_type": "error",
          "ename": "KeyboardInterrupt",
          "evalue": "Interrupted by user",
          "traceback": [
            "\u001b[0;31m---------------------------------------------------------------------------\u001b[0m",
            "\u001b[0;31mKeyboardInterrupt\u001b[0m                         Traceback (most recent call last)",
            "\u001b[0;32m<ipython-input-8-f1d7bfb0ed76>\u001b[0m in \u001b[0;36m<cell line: 6>\u001b[0;34m()\u001b[0m\n\u001b[1;32m      5\u001b[0m \u001b[0;31m#TODO-1: - Use a while loop to let the user guess again.\u001b[0m\u001b[0;34m\u001b[0m\u001b[0;34m\u001b[0m\u001b[0m\n\u001b[1;32m      6\u001b[0m \u001b[0;32mwhile\u001b[0m \u001b[0;34m\"_\"\u001b[0m \u001b[0;32min\u001b[0m \u001b[0mdisplay\u001b[0m \u001b[0;32mand\u001b[0m \u001b[0mlives\u001b[0m \u001b[0;34m>\u001b[0m \u001b[0;36m0\u001b[0m\u001b[0;34m:\u001b[0m\u001b[0;34m\u001b[0m\u001b[0;34m\u001b[0m\u001b[0m\n\u001b[0;32m----> 7\u001b[0;31m   \u001b[0mguess\u001b[0m \u001b[0;34m=\u001b[0m \u001b[0minput\u001b[0m\u001b[0;34m(\u001b[0m\u001b[0;34m\"Guess a letter\"\u001b[0m\u001b[0;34m)\u001b[0m\u001b[0;34m.\u001b[0m\u001b[0mlower\u001b[0m\u001b[0;34m(\u001b[0m\u001b[0;34m)\u001b[0m\u001b[0;34m\u001b[0m\u001b[0;34m\u001b[0m\u001b[0m\n\u001b[0m\u001b[1;32m      8\u001b[0m \u001b[0;34m\u001b[0m\u001b[0m\n\u001b[1;32m      9\u001b[0m \u001b[0;31m#The loop should only stop once the user has guessed all the letters in the chosen_word and 'display' has no more blanks (\"_\").\u001b[0m\u001b[0;34m\u001b[0m\u001b[0;34m\u001b[0m\u001b[0m\n",
            "\u001b[0;32m/usr/local/lib/python3.10/dist-packages/ipykernel/kernelbase.py\u001b[0m in \u001b[0;36mraw_input\u001b[0;34m(self, prompt)\u001b[0m\n\u001b[1;32m    849\u001b[0m                 \u001b[0;34m\"raw_input was called, but this frontend does not support input requests.\"\u001b[0m\u001b[0;34m\u001b[0m\u001b[0;34m\u001b[0m\u001b[0m\n\u001b[1;32m    850\u001b[0m             )\n\u001b[0;32m--> 851\u001b[0;31m         return self._input_request(str(prompt),\n\u001b[0m\u001b[1;32m    852\u001b[0m             \u001b[0mself\u001b[0m\u001b[0;34m.\u001b[0m\u001b[0m_parent_ident\u001b[0m\u001b[0;34m,\u001b[0m\u001b[0;34m\u001b[0m\u001b[0;34m\u001b[0m\u001b[0m\n\u001b[1;32m    853\u001b[0m             \u001b[0mself\u001b[0m\u001b[0;34m.\u001b[0m\u001b[0m_parent_header\u001b[0m\u001b[0;34m,\u001b[0m\u001b[0;34m\u001b[0m\u001b[0;34m\u001b[0m\u001b[0m\n",
            "\u001b[0;32m/usr/local/lib/python3.10/dist-packages/ipykernel/kernelbase.py\u001b[0m in \u001b[0;36m_input_request\u001b[0;34m(self, prompt, ident, parent, password)\u001b[0m\n\u001b[1;32m    893\u001b[0m             \u001b[0;32mexcept\u001b[0m \u001b[0mKeyboardInterrupt\u001b[0m\u001b[0;34m:\u001b[0m\u001b[0;34m\u001b[0m\u001b[0;34m\u001b[0m\u001b[0m\n\u001b[1;32m    894\u001b[0m                 \u001b[0;31m# re-raise KeyboardInterrupt, to truncate traceback\u001b[0m\u001b[0;34m\u001b[0m\u001b[0;34m\u001b[0m\u001b[0m\n\u001b[0;32m--> 895\u001b[0;31m                 \u001b[0;32mraise\u001b[0m \u001b[0mKeyboardInterrupt\u001b[0m\u001b[0;34m(\u001b[0m\u001b[0;34m\"Interrupted by user\"\u001b[0m\u001b[0;34m)\u001b[0m \u001b[0;32mfrom\u001b[0m \u001b[0;32mNone\u001b[0m\u001b[0;34m\u001b[0m\u001b[0;34m\u001b[0m\u001b[0m\n\u001b[0m\u001b[1;32m    896\u001b[0m             \u001b[0;32mexcept\u001b[0m \u001b[0mException\u001b[0m \u001b[0;32mas\u001b[0m \u001b[0me\u001b[0m\u001b[0;34m:\u001b[0m\u001b[0;34m\u001b[0m\u001b[0;34m\u001b[0m\u001b[0m\n\u001b[1;32m    897\u001b[0m                 \u001b[0mself\u001b[0m\u001b[0;34m.\u001b[0m\u001b[0mlog\u001b[0m\u001b[0;34m.\u001b[0m\u001b[0mwarning\u001b[0m\u001b[0;34m(\u001b[0m\u001b[0;34m\"Invalid Message:\"\u001b[0m\u001b[0;34m,\u001b[0m \u001b[0mexc_info\u001b[0m\u001b[0;34m=\u001b[0m\u001b[0;32mTrue\u001b[0m\u001b[0;34m)\u001b[0m\u001b[0;34m\u001b[0m\u001b[0;34m\u001b[0m\u001b[0m\n",
            "\u001b[0;31mKeyboardInterrupt\u001b[0m: Interrupted by user"
          ]
        }
      ]
    },
    {
      "cell_type": "markdown",
      "source": [
        "# Step 04"
      ],
      "metadata": {
        "id": "dFsxtR2p4nh-"
      }
    },
    {
      "cell_type": "code",
      "source": [
        "#Step 4\n",
        "\n",
        "\n",
        "#TODO-1: - Create a variable called 'lives' to keep track of the number of lives left.\n",
        "#Set 'lives' to equal 6.\n",
        "lives = 6\n",
        "\n",
        "\n",
        "\n",
        "#TODO-2: - If guess is not a letter in the chosen_word,\n",
        "#Then reduce 'lives' by 1.\n",
        "#If lives goes down to 0 then the game should stop and it should print \"You lose.\"\n",
        "if guess not in chosen_word:\n",
        "  lives -= 1\n",
        "  print(f\"Incorrect guess! You have {lives} lives left.\")\n",
        "  if lives == 0:\n",
        "    print(\"You lose.\")\n",
        "    break"
      ],
      "metadata": {
        "id": "fu2D3akx4p0D",
        "colab": {
          "base_uri": "https://localhost:8080/",
          "height": 106
        },
        "outputId": "90d107d3-9de8-4c7a-82a1-0a67a99a6ed5"
      },
      "execution_count": null,
      "outputs": [
        {
          "output_type": "error",
          "ename": "SyntaxError",
          "evalue": "'break' outside loop (<ipython-input-60-9ae80799d1d4>, line 18)",
          "traceback": [
            "\u001b[0;36m  File \u001b[0;32m\"<ipython-input-60-9ae80799d1d4>\"\u001b[0;36m, line \u001b[0;32m18\u001b[0m\n\u001b[0;31m    break\u001b[0m\n\u001b[0m    ^\u001b[0m\n\u001b[0;31mSyntaxError\u001b[0m\u001b[0;31m:\u001b[0m 'break' outside loop\n"
          ]
        }
      ]
    },
    {
      "cell_type": "markdown",
      "source": [
        "# Step 05\n",
        "\n",
        "Complete Code"
      ],
      "metadata": {
        "id": "xFMY-dOg7NwB"
      }
    },
    {
      "cell_type": "code",
      "source": [
        "word_list = [\"prepinsta\", \"prime\", \"mohan\"]\n",
        "\n",
        "import random\n",
        "chosen_word = random.choice(word_list)\n",
        "\n",
        "display = []\n",
        "\n",
        "for letter in chosen_word:\n",
        "  display.append(\"_\")\n",
        "\n",
        "lives = 6\n",
        "\n",
        "while \"_\" in display and lives > 0:\n",
        "  guess = input(\"Guess a letter: \").lower()\n",
        "\n",
        "  if guess not in chosen_word:\n",
        "    print(f\"Incorrect guess! You have {lives} lives left.\")\n",
        "    lives -= 1\n",
        "  if lives == 0:\n",
        "    print(\"You lose.\")\n",
        "    break\n",
        "\n",
        "  for position in range(len(chosen_word)):\n",
        "      if chosen_word[position] == guess:\n",
        "        display[position] = guess\n",
        "\n",
        "  print(display)\n",
        "\n",
        "if \"_\" not in display:\n",
        "    print(\"Congratulations you have won the game\")\n",
        "else:\n",
        "  print(f\"The correct answer was {chosen_word}\")\n"
      ],
      "metadata": {
        "id": "GlGMx_Ws7vuN",
        "colab": {
          "base_uri": "https://localhost:8080/"
        },
        "outputId": "3e3521cb-28d4-4d6e-ace0-14798da3fb70"
      },
      "execution_count": null,
      "outputs": [
        {
          "output_type": "stream",
          "name": "stdout",
          "text": [
            "Guess a letter: m\n",
            "Incorrect guess! You have 6 lives left.\n",
            "['_', '_', '_', '_', '_', '_', '_', '_', '_']\n",
            "Guess a letter: p\n",
            "['p', '_', '_', 'p', '_', '_', '_', '_', '_']\n",
            "Guess a letter: d\n",
            "Incorrect guess! You have 5 lives left.\n",
            "['p', '_', '_', 'p', '_', '_', '_', '_', '_']\n",
            "Guess a letter: e\n",
            "['p', '_', 'e', 'p', '_', '_', '_', '_', '_']\n",
            "Guess a letter: r\n",
            "['p', 'r', 'e', 'p', '_', '_', '_', '_', '_']\n",
            "Guess a letter: s\n",
            "['p', 'r', 'e', 'p', '_', '_', 's', '_', '_']\n",
            "Guess a letter: v\n",
            "Incorrect guess! You have 4 lives left.\n",
            "['p', 'r', 'e', 'p', '_', '_', 's', '_', '_']\n",
            "Guess a letter: k\n",
            "Incorrect guess! You have 3 lives left.\n",
            "['p', 'r', 'e', 'p', '_', '_', 's', '_', '_']\n",
            "Guess a letter: i\n",
            "['p', 'r', 'e', 'p', 'i', '_', 's', '_', '_']\n",
            "Guess a letter: m\n",
            "Incorrect guess! You have 2 lives left.\n",
            "['p', 'r', 'e', 'p', 'i', '_', 's', '_', '_']\n",
            "Guess a letter: n\n",
            "['p', 'r', 'e', 'p', 'i', 'n', 's', '_', '_']\n",
            "Guess a letter: a\n",
            "['p', 'r', 'e', 'p', 'i', 'n', 's', '_', 'a']\n",
            "Guess a letter: t\n",
            "['p', 'r', 'e', 'p', 'i', 'n', 's', 't', 'a']\n",
            "Congratulations you have won the game\n"
          ]
        }
      ]
    }
  ]
}